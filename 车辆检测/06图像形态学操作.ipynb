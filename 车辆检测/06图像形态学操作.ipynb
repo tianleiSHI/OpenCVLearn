{
 "cells": [
  {
   "cell_type": "markdown",
   "metadata": {},
   "source": [
    "### OpenCV基础部分——06图像形态学操作\n",
    "- 基于图像形态进行处理的一些基本方法，一般使用二进制图像\n",
    "- 卷积核决定着图像处理后的效果\n",
    "- 腐蚀与膨胀，开闭运算，顶帽，黑帽运算"
   ]
  },
  {
   "cell_type": "code",
   "execution_count": 7,
   "metadata": {},
   "outputs": [],
   "source": [
    "'''图像二值化：全局二值化，局部二值化'''\n",
    "# threshold(img,thresh,maxVal,type)\n",
    "# img:最好是灰度图\n",
    "# thresh:阈值\n",
    "# maxVal:超过阈值，替换成maxVal\n",
    "# 类型：THERSH_BINARY、THRESH_BINARY_INV\n",
    "#       THRESH_TRUNC消峰\n",
    "#       THRESH_TOZERO、THRESH_TOZERO_INV\n",
    "import cv2\n",
    "import numpy as np\n",
    "img = cv2.imread('images/lambo.PNG')\n",
    "img_gray = cv2.cvtColor(img,cv2.COLOR_BGR2GRAY)\n",
    "ret, dst = cv2.threshold(img_gray,100,255,cv2.THRESH_BINARY)\n",
    "cv2.imshow('img',img)\n",
    "cv2.imshow('img_gray',img_gray)\n",
    "cv2.imshow('bin',dst)\n",
    "key = cv2.waitKey(0)\n",
    "if key &0xff == ord('q'):\n",
    "    cv2.destroyAllWindows()\n",
    "    cv2.waitKey(1)"
   ]
  },
  {
   "cell_type": "code",
   "execution_count": 18,
   "metadata": {},
   "outputs": [],
   "source": [
    "'''自适应阈值：由于光照不均匀以及阴影的存在，只有一个阈值会使得在阴影处的白色被二值化成黑色'''\n",
    "# adaptiveThreshold(img,maxVal,adaptiveMethod,type,blockSize,C)\n",
    "# adaptioveMethod:计算阈值的方法：\n",
    "        # 方法1: 计算邻近区域的平均值：ADAPTIVE_THRESH_MEAN_C\n",
    "        # 方法2: 高斯窗口加权平均值：ADAPTIVE_THRESH_GAUSSIAN_C\n",
    "# blockSize:邻近区域的大小\n",
    "# C:常量，应从计算出的平均值或加权平均值中减去\n",
    "# 类型：THERSH_BINARY、THRESH_BINARY_INV\n",
    "import cv2\n",
    "import numpy as np\n",
    "img = cv2.imread('images/lambo.PNG')\n",
    "img_gray = cv2.cvtColor(img,cv2.COLOR_BGR2GRAY)\n",
    "dst = cv2.adaptiveThreshold(img_gray,255,cv2.ADAPTIVE_THRESH_MEAN_C,cv2.THRESH_BINARY_INV,3,0)\n",
    "cv2.imshow('img',img)\n",
    "cv2.imshow('img_gray',img_gray)\n",
    "cv2.imshow('bin',dst)\n",
    "key = cv2.waitKey(0)\n",
    "if key &0xff == ord('q'):\n",
    "    cv2.destroyAllWindows()\n",
    "    cv2.waitKey(1)"
   ]
  },
  {
   "cell_type": "code",
   "execution_count": 20,
   "metadata": {},
   "outputs": [],
   "source": [
    "'''腐蚀运算'''\n",
    "# erode(img,kernel,iterations=1)\n",
    "import cv2\n",
    "import numpy as np \n",
    "img = cv2.imread('images/lambo.PNG')\n",
    "img_gray = cv2.cvtColor(img,cv2.COLOR_BGR2GRAY)\n",
    "img_bin = cv2.adaptiveThreshold(img_gray,255,cv2.ADAPTIVE_THRESH_MEAN_C,cv2.THRESH_BINARY_INV,3,0)\n",
    "kernel = np.ones((5,5),np.uint8)\n",
    "\n",
    "img_erode = cv2.erode(img_bin,kernel,iterations=1)\n",
    "cv2.imshow('img',img)\n",
    "cv2.imshow('img_bin',img_bin)\n",
    "cv2.imshow('erode',img_erode)\n",
    "key = cv2.waitKey(0)\n",
    "if key &0xff == ord('q'):\n",
    "    cv2.destroyAllWindows()\n",
    "    cv2.waitKey(1)"
   ]
  },
  {
   "cell_type": "code",
   "execution_count": null,
   "metadata": {},
   "outputs": [],
   "source": [
    "'''OpenCV获得卷积核'''\n",
    "# getStructuringElement(type,size)\n",
    "# size 值为(3,3),(5,5),(7,7)\n",
    "# 卷积核类型：MORPH_RECT、MORPH_ELLIPSE、MORPH_CROSS\n",
    "kernel = cv2.getStructuringElement(cv2.MORPH_CROSS,(5,5))\n",
    "print(kernel)"
   ]
  },
  {
   "cell_type": "code",
   "execution_count": 30,
   "metadata": {},
   "outputs": [],
   "source": [
    "'''膨胀操作'''\n",
    "# dilate(img,kernel,iterations=1)\n",
    "import cv2\n",
    "import numpy as np \n",
    "img = cv2.imread('images/lambo.PNG')\n",
    "img_gray = cv2.cvtColor(img,cv2.COLOR_BGR2GRAY)\n",
    "_,img_bin = cv2.threshold(img_gray,100,255,cv2.THRESH_BINARY)\n",
    "kernel = np.ones((3,3),np.uint8)\n",
    "\n",
    "img_dilate = cv2.dilate(img_bin,kernel,iterations=1)\n",
    "cv2.imshow('img',img)\n",
    "cv2.imshow('img_bin',img_bin)\n",
    "cv2.imshow('dilate',img_dilate)\n",
    "key = cv2.waitKey(0)\n",
    "if key &0xff == ord('q'):\n",
    "    cv2.destroyAllWindows()\n",
    "    cv2.waitKey(1)"
   ]
  },
  {
   "cell_type": "code",
   "execution_count": 41,
   "metadata": {},
   "outputs": [],
   "source": [
    "'''开运算：腐蚀+膨胀'''\n",
    "# 这里注意，如果图像前景是黑色，背景是白色的话，闭运算才可以消除噪点（功能刚好相反）\n",
    "# morphologyEx(img,MORPH_OPEN,kernel)\n",
    "import cv2\n",
    "import numpy as np \n",
    "img = cv2.imread('images/lambo.PNG')\n",
    "img_gray = cv2.cvtColor(img,cv2.COLOR_BGR2GRAY)\n",
    "_,img_bin = cv2.threshold(img_gray,100,255,cv2.THRESH_BINARY)\n",
    "kernel = np.ones((3,3),np.uint8)\n",
    "'''闭运算：膨胀+腐蚀'''\n",
    "#「前提：前景为白色，北京为黑色」如果前景内部不连续，则闭运算可以连续前景\n",
    "img_dilate = cv2.morphologyEx(img_bin,cv2.MORPH_CLOSE,kernel)\n",
    "cv2.imshow('img',img)\n",
    "cv2.imshow('img_bin',img_bin)\n",
    "cv2.imshow('dilate',img_dilate)\n",
    "key = cv2.waitKey(0)\n",
    "if key &0xff == ord('q'):\n",
    "    cv2.destroyAllWindows()\n",
    "    cv2.waitKey(1)"
   ]
  },
  {
   "cell_type": "code",
   "execution_count": 43,
   "metadata": {},
   "outputs": [],
   "source": [
    "'''形态学梯度'''\n",
    "# 梯度 = 原图 - 腐蚀结果\n",
    "# morphologyEx(img,MORPH_GRANDIENT,kernel)\n",
    "import cv2\n",
    "import numpy as np \n",
    "img = cv2.imread('images/lambo.PNG')\n",
    "img_gray = cv2.cvtColor(img,cv2.COLOR_BGR2GRAY)\n",
    "_,img_bin = cv2.threshold(img_gray,100,255,cv2.THRESH_BINARY)\n",
    "kernel = np.ones((3,3),np.uint8)\n",
    "\n",
    "img_dilate = cv2.morphologyEx(img_bin,cv2.MORPH_GRADIENT,kernel)\n",
    "cv2.imshow('img',img)\n",
    "cv2.imshow('img_bin',img_bin)\n",
    "cv2.imshow('tidu',img_dilate)\n",
    "key = cv2.waitKey(0)\n",
    "if key &0xff == ord('q'):\n",
    "    cv2.destroyAllWindows()\n",
    "    cv2.waitKey(1)"
   ]
  },
  {
   "cell_type": "code",
   "execution_count": 45,
   "metadata": {},
   "outputs": [],
   "source": [
    "'''顶帽运算'''\n",
    "# 顶帽 = 原图 -开运算 （保留小点，去除大块）\n",
    "import cv2\n",
    "import numpy as np \n",
    "img = cv2.imread('images/lambo.PNG')\n",
    "img_gray = cv2.cvtColor(img,cv2.COLOR_BGR2GRAY)\n",
    "_,img_bin = cv2.threshold(img_gray,100,255,cv2.THRESH_BINARY_INV)\n",
    "kernel = np.ones((3,3),np.uint8)\n",
    "\n",
    "img_dilate = cv2.morphologyEx(img_bin,cv2.MORPH_TOPHAT,kernel)\n",
    "cv2.imshow('img',img)\n",
    "cv2.imshow('img_bin',img_bin)\n",
    "cv2.imshow('tidu',img_dilate)\n",
    "key = cv2.waitKey(0)\n",
    "if key &0xff == ord('q'):\n",
    "    cv2.destroyAllWindows()\n",
    "    cv2.waitKey(1)"
   ]
  },
  {
   "cell_type": "code",
   "execution_count": 46,
   "metadata": {},
   "outputs": [],
   "source": [
    "'''黑帽运算'''\n",
    "# 黑帽 = 原图 - 闭运算\n",
    "import cv2\n",
    "import numpy as np \n",
    "img = cv2.imread('images/lambo.PNG')\n",
    "img_gray = cv2.cvtColor(img,cv2.COLOR_BGR2GRAY)\n",
    "_,img_bin = cv2.threshold(img_gray,100,255,cv2.THRESH_BINARY_INV)\n",
    "kernel = np.ones((3,3),np.uint8)\n",
    "\n",
    "img_dilate = cv2.morphologyEx(img_bin,cv2.MORPH_BLACKHAT,kernel)\n",
    "cv2.imshow('img',img)\n",
    "cv2.imshow('img_bin',img_bin)\n",
    "cv2.imshow('tidu',img_dilate)\n",
    "key = cv2.waitKey(0)\n",
    "if key &0xff == ord('q'):\n",
    "    cv2.destroyAllWindows()\n",
    "    cv2.waitKey(1)"
   ]
  }
 ],
 "metadata": {
  "kernelspec": {
   "display_name": "Python 3.11.0 ('venvS': venv)",
   "language": "python",
   "name": "python3"
  },
  "language_info": {
   "codemirror_mode": {
    "name": "ipython",
    "version": 3
   },
   "file_extension": ".py",
   "mimetype": "text/x-python",
   "name": "python",
   "nbconvert_exporter": "python",
   "pygments_lexer": "ipython3",
   "version": "3.11.0"
  },
  "orig_nbformat": 4,
  "vscode": {
   "interpreter": {
    "hash": "0be229f28c8d1a313b07da067d916a5640de289edfdcc8d9d17e4a2a7a28bb4a"
   }
  }
 },
 "nbformat": 4,
 "nbformat_minor": 2
}
