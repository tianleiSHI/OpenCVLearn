{
 "cells": [
  {
   "cell_type": "markdown",
   "metadata": {},
   "source": [
    "### OpenCV基础部分——05图像滤波操作"
   ]
  },
  {
   "cell_type": "code",
   "execution_count": 2,
   "metadata": {},
   "outputs": [],
   "source": [
    "'''图像卷积操作'''\n",
    "import cv2\n",
    "import numpy as np\n",
    "img = cv2.imread('images/lena.png')\n",
    "kernel = np.ones((5,5),np.float32) / 25\n",
    "dst = cv2.filter2D(img,-1,kernel)\n",
    "cv2.imshow('img',img)\n",
    "cv2.imshow('dst',dst)\n",
    "key = cv2.waitKey(0)\n",
    "if key &0xff == ord('q'):\n",
    "    cv2.destroyAllWindows()\n",
    "    cv2.waitKey(1)"
   ]
  },
  {
   "cell_type": "markdown",
   "metadata": {},
   "source": [
    "##### 1.低通滤波"
   ]
  },
  {
   "cell_type": "code",
   "execution_count": 4,
   "metadata": {},
   "outputs": [],
   "source": [
    "'''方盒滤波与均值滤波'''\n",
    "# boxFilter(src,ddepth,ksie,anchor,normalize,borderType)\n",
    "# ddepth输出图像位深（通道数）\n",
    "# anchor默认为（-1，-1）kernel的中点\n",
    "# normalize = ture时，方盒滤波即为平均滤波；false时，a=1，不计算均值\n",
    "\n",
    "# blur(src,ksize,anchor,borderType)\n",
    "import cv2\n",
    "img = cv2.imread('images/lena.png')\n",
    "dst = cv2.blur(img,(5,5))\n",
    "cv2.imshow('img',img)\n",
    "cv2.imshow('dst',dst)\n",
    "key = cv2.waitKey(0)\n",
    "if key &0xff == ord('q'):\n",
    "    cv2.destroyAllWindows()\n",
    "    cv2.waitKey(1)"
   ]
  },
  {
   "cell_type": "code",
   "execution_count": 6,
   "metadata": {},
   "outputs": [],
   "source": [
    "'''高斯滤波'''\n",
    "# GaussianBlur(img,kernel,sigmaX,sigmaY,...) #边缘模糊比较严重\n",
    "import cv2\n",
    "img = cv2.imread('images/lena.png')\n",
    "dst = cv2.GaussianBlur(img,(5,5),sigmaX=1)\n",
    "cv2.imshow('img',img)\n",
    "cv2.imshow('dst',dst)\n",
    "key = cv2.waitKey(0)\n",
    "if key &0xff == ord('q'):\n",
    "    cv2.destroyAllWindows()\n",
    "    cv2.waitKey(1)"
   ]
  },
  {
   "cell_type": "code",
   "execution_count": 8,
   "metadata": {},
   "outputs": [],
   "source": [
    "'''中值滤波'''\n",
    "# medianBlur(img,ksize)\n",
    "import cv2\n",
    "img = cv2.imread('images/lena.png')\n",
    "dst = cv2.medianBlur(img,5) # ksize是单个整数，一般为奇数\n",
    "cv2.imshow('img',img)\n",
    "cv2.imshow('dst',dst)\n",
    "key = cv2.waitKey(0)\n",
    "if key &0xff == ord('q'):\n",
    "    cv2.destroyAllWindows()\n",
    "    cv2.waitKey(1)"
   ]
  },
  {
   "cell_type": "code",
   "execution_count": 10,
   "metadata": {},
   "outputs": [],
   "source": [
    "'''双边滤波'''\n",
    "# 可以保留边缘，同时对边缘内的区域进行平滑处理\n",
    "# bilateralFilter(img,d,sigmaColor,sigmaSpace,...)\n",
    "import cv2\n",
    "img = cv2.imread('images/lena.png')\n",
    "dst = cv2.bilateralFilter(img,7,20,50)  #效果是真的好，常用于美颜\n",
    "cv2.imshow('img',img)\n",
    "cv2.imshow('dst',dst)\n",
    "key = cv2.waitKey(0)\n",
    "if key &0xff == ord('q'):\n",
    "    cv2.destroyAllWindows()\n",
    "    cv2.waitKey(1)"
   ]
  },
  {
   "cell_type": "markdown",
   "metadata": {},
   "source": [
    "#### 4.高通滤波"
   ]
  },
  {
   "cell_type": "code",
   "execution_count": 15,
   "metadata": {},
   "outputs": [],
   "source": [
    "'''Sobel滤波(高斯滤波+一阶导求边缘)'''\n",
    "# 对噪音的适应性很强，因为先用了高斯滤波平滑\n",
    "# Sobel(src,ddepth,dx,dy,ksize=3,scale=1,delta=0,borderType = BORDER_DEFAULT)\n",
    "\n",
    "import cv2\n",
    "img = cv2.imread('images/lena.png')\n",
    "dst_x = cv2.Sobel(img,cv2.CV_64F,1,0,ksize=5)\n",
    "dst_y = cv2.Sobel(img,cv2.CV_64F,0,1,ksize=5)\n",
    "# dst = dst_x + dst_y 效率低\n",
    "dst = cv2.add(dst_x,dst_y)\n",
    "cv2.imshow('img',img)\n",
    "cv2.imshow('dst',dst)\n",
    "key = cv2.waitKey(0)\n",
    "if key &0xff == ord('q'):\n",
    "    cv2.destroyAllWindows()\n",
    "    cv2.waitKey(1)"
   ]
  },
  {
   "cell_type": "code",
   "execution_count": 16,
   "metadata": {},
   "outputs": [],
   "source": [
    "'''Scharr滤波，卷积核尺寸固定为3*3'''\n",
    "# Sobel的卷积核设置为-1，则为Scharr滤波\n",
    "# 但是对于3*3的卷积，scharr效果比sobel更好，scharr可以检测出更细的边缘线\n",
    "\n",
    "# 他们都只能求某一个方向的边缘，最后需要将x和y轴的边缘相加\n",
    "# Scharr(src,ddepth,dx,dy,scale=1,delta=0,borderType=BORDER_DEFAULT)\n",
    "import cv2\n",
    "img = cv2.imread('images/lena.png')\n",
    "dst_x = cv2.Scharr(img,cv2.CV_64F,1,0)\n",
    "dst_y = cv2.Scharr(img,cv2.CV_64F,0,1)\n",
    "# dst = dst_x + dst_y 效率低\n",
    "dst = cv2.add(dst_x,dst_y)\n",
    "cv2.imshow('img',img)\n",
    "cv2.imshow('dst',dst)\n",
    "key = cv2.waitKey(0)\n",
    "if key &0xff == ord('q'):\n",
    "    cv2.destroyAllWindows()\n",
    "    cv2.waitKey(1)\n"
   ]
  },
  {
   "cell_type": "code",
   "execution_count": 23,
   "metadata": {},
   "outputs": [],
   "source": [
    "'''Laplacian滤波'''\n",
    "# 不需要分开求x和y方向的梯度，直接得到图像的边缘\n",
    "# 但是对噪音比较敏感，需要手工降噪\n",
    "\n",
    "# Laplacian(img,ddepth,ksize=1,scale=1,borderType=BORDER_DEFAULT)\n",
    "import cv2\n",
    "img = cv2.imread('images/lena.png')\n",
    "img = cv2.bilateralFilter(img,3,20,50)\n",
    "dst = cv2.Laplacian(img,1,ksize=5)\n",
    "\n",
    "cv2.imshow('img',img)\n",
    "cv2.imshow('dst',dst)\n",
    "key = cv2.waitKey(0)\n",
    "if key &0xff == ord('q'):\n",
    "    cv2.destroyAllWindows()\n",
    "    cv2.waitKey(1)\n"
   ]
  },
  {
   "cell_type": "code",
   "execution_count": 24,
   "metadata": {},
   "outputs": [],
   "source": [
    "'''Canny边缘检测'''\n",
    "# step1:使用5*5高斯滤波消除噪声\n",
    "# step2:计算图像梯度的方向（0，45，90，135度）\n",
    "# step3:取局部极大值\n",
    "# step4:阈值计算\n",
    "# Canny(img,minVal,maxVal,...)\n",
    "import cv2\n",
    "img = cv2.imread('images/lena.png')\n",
    "dst = cv2.Canny(img,150,200) # 最后为黑白色，效果非常好\n",
    "\n",
    "cv2.imshow('img',img)\n",
    "cv2.imshow('dst',dst)\n",
    "key = cv2.waitKey(0)\n",
    "if key &0xff == ord('q'):\n",
    "    cv2.destroyAllWindows()\n",
    "    cv2.waitKey(1)\n"
   ]
  }
 ],
 "metadata": {
  "kernelspec": {
   "display_name": "Python 3.11.0 ('venvS': venv)",
   "language": "python",
   "name": "python3"
  },
  "language_info": {
   "codemirror_mode": {
    "name": "ipython",
    "version": 3
   },
   "file_extension": ".py",
   "mimetype": "text/x-python",
   "name": "python",
   "nbconvert_exporter": "python",
   "pygments_lexer": "ipython3",
   "version": "3.11.0"
  },
  "orig_nbformat": 4,
  "vscode": {
   "interpreter": {
    "hash": "0be229f28c8d1a313b07da067d916a5640de289edfdcc8d9d17e4a2a7a28bb4a"
   }
  }
 },
 "nbformat": 4,
 "nbformat_minor": 2
}
