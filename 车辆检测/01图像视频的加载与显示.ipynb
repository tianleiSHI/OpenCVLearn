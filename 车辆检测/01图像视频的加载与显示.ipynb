{
 "cells": [
  {
   "cell_type": "markdown",
   "metadata": {},
   "source": [
    "### OpenCV基础部分——01图像视频的加载与显示"
   ]
  },
  {
   "cell_type": "code",
   "execution_count": 14,
   "metadata": {},
   "outputs": [],
   "source": [
    "import cv2\n",
    "'''窗口创建与显示'''\n",
    "cv2.namedWindow('new', cv2.WINDOW_NORMAL)\n",
    "cv2.resizeWindow('new', 640, 480)\n",
    "cv2.imshow('new', 0)\n",
    "key = cv2.waitKey(0)\n",
    "if (key == 'q'):\n",
    "    exit()\n",
    "cv2.destroyAllWindows()"
   ]
  },
  {
   "cell_type": "code",
   "execution_count": null,
   "metadata": {},
   "outputs": [],
   "source": [
    "import cv2\n",
    "import os\n",
    "'''读取图像，加载图像，保存图像'''\n",
    "cv2.namedWindow('img',cv2.WINDOW_NORMAL)\n",
    "path = os.getcwd()\n",
    "# print(path)\n",
    "img = cv2.imread('images/1.jpg')\n",
    "while True:\n",
    "    cv2.imshow('img',img)\n",
    "    key = cv2.waitKey(0)\n",
    "    if(key & 0xFF == ord('q')):\n",
    "        print('键入q,我消失了')\n",
    "        break\n",
    "    elif(key & 0xFF ==ord('s')):\n",
    "        cv2.imwrite('savedImage/1.jpg',img)\n",
    "        print('键入s,我保存了一张新图像')\n",
    "cv2.destroyAllWindows()\n",
    "cv2.waitKey(1)\n",
    "print('窗口资源释放，程序结束')"
   ]
  },
  {
   "cell_type": "markdown",
   "metadata": {},
   "source": [
    "**注意**：jupyder中使用exit函数后，会让notebook认为kernel死掉了，它会自动开始一个新的kernel；\n",
    "解决办法：可以把exit()函数写到函数体里面来结束运行，或者不使用exit()函数，在destroyAllWindows后面再接一个waitkey"
   ]
  },
  {
   "cell_type": "code",
   "execution_count": null,
   "metadata": {},
   "outputs": [],
   "source": [
    "import cv2\n",
    "'''相机获取并显示，视频播放'''\n",
    "cv2.namedWindow('video', cv2.WINDOW_AUTOSIZE) # 创建窗口\n",
    "cap = cv2.VideoCapture(0) # 获取视频设备\n",
    "#cap = cv2.VideoCapture('images/test_video.mp4')\n",
    "while True:\n",
    "    ret, frame = cap.read() # 读取每一帧图像\n",
    "    cv2.imshow('video',frame) # 在video窗口中展示一帧图像\n",
    "    key = cv2.waitKey(10) # 这里不能设为0，会一直等待键入，也就是只显示一帧图像\n",
    "    if(key & 0xFF == ord('q')):\n",
    "        print('键入q，视频关掉')\n",
    "        break\n",
    "cap.release() # 释放videocapture资源\n",
    "cv2.destroyAllWindows() # 释放窗口资源\n",
    "cv2.waitKey(1)\n",
    "print('程序结束')"
   ]
  },
  {
   "cell_type": "code",
   "execution_count": 28,
   "metadata": {},
   "outputs": [
    {
     "name": "stdout",
     "output_type": "stream",
     "text": [
      "程序结束\n"
     ]
    }
   ],
   "source": [
    "import cv2\n",
    "'''从相机录制视频，并保存成视频文件'''\n",
    "# API：VideoWriter，write，release\n",
    "# 参数：输出文件、多媒体文件格式、帧率、分辨率大小\n",
    "fourcc = cv2.VideoWriter_fourcc('m', 'p', '4', 'v')\n",
    "#fourcc = cv2.VideoWriter_fourcc(*'MJPG')\n",
    "#fourcc = cv2.VideoWriter_fourcc(*'XVID')\n",
    "#fourcc = cv2.VideoWriter_fourcc('D', 'I', 'V', 'X')   # 不同编码对用不同格式\n",
    "#fourcc = cv2.VideoWriter_fourcc(*'mp4v')\n",
    "vw = cv2.VideoWriter('savedImage/out.mp4',fourcc,25,(1980,1080)) #\n",
    "cv2.namedWindow('video', cv2.WINDOW_NORMAL)\n",
    "cv2.resizeWindow('video',640,360)\n",
    "cap = cv2.VideoCapture(0)\n",
    "while cap.isOpened():\n",
    "    ret, frame = cap.read()\n",
    "    if ret != True:\n",
    "        break\n",
    "    cv2.imshow('video', frame)\n",
    "    cv2.resizeWindow('video',640,360)\n",
    "    vw.write(frame)\n",
    "    key = cv2.waitKey(1)\n",
    "    if(key&0xFF ==ord('q')):\n",
    "        break\n",
    "cap.release()\n",
    "vw.release()\n",
    "cv2.destroyAllWindows() # 释放窗口资源\n",
    "cv2.waitKey(1)\n",
    "print('程序结束')"
   ]
  },
  {
   "cell_type": "code",
   "execution_count": null,
   "metadata": {},
   "outputs": [],
   "source": [
    "import cv2\n",
    "import numpy as np\n",
    "'''设置鼠标回调函数'''\n",
    "def mouse_callback(event,x,y,flags,userdata):\n",
    "    print(event,x,y,flags,userdata)\n",
    "# 创建窗口\n",
    "cv2.namedWindow('mouse', cv2.WINDOW_NORMAL)\n",
    "cv2.resizeWindow('mouse', 640,360)\n",
    "\n",
    "# 设置鼠标回调\n",
    "cv2.setMouseCallback('mouse', mouse_callback,'你好')\n",
    "\n",
    "# 显示窗口和背景\n",
    "img = np.zeros((360,640,3), np.uint8)\n",
    "while True:\n",
    "    cv2.imshow('mouse',img)\n",
    "    key = cv2.waitKey(1)\n",
    "    if(key&0xFF ==ord('q')):\n",
    "        break\n",
    "cv2.destroyAllWindows() # 释放窗口资源\n",
    "cv2.waitKey(1)\n",
    "print('程序结束')\n",
    "        "
   ]
  },
  {
   "cell_type": "code",
   "execution_count": 1,
   "metadata": {},
   "outputs": [],
   "source": [
    "import cv2\n",
    "import numpy as np\n",
    "import os\n",
    "os.environ[\"KMP_DUPLICATE_LIB_OK\"]=\"TRUE\"\n",
    "\n",
    "'''TrackBar控件'''\n",
    "def callback(value):\n",
    "    print(value)\n",
    "cv2.namedWindow('trackbar',cv2.WINDOW_NORMAL)\n",
    "\n",
    "cv2.createTrackbar('R','trackbar',0,255,callback)\n",
    "cv2.createTrackbar('G','trackbar',0,255,callback)\n",
    "cv2.createTrackbar('B','trackbar',0,255,callback)\n",
    "\n",
    "img = np.zeros((480,640,3),np.uint8)\n",
    "while True:\n",
    "    r = cv2.getTrackbarPos('R','trackbar')\n",
    "    g = cv2.getTrackbarPos('G','trackbar')\n",
    "    b = cv2.getTrackbarPos('B','trackbar')\n",
    "    img[:] =[b,g,r]\n",
    "    \n",
    "    cv2.imshow('trackbar',img)\n",
    "    key = cv2.waitKey(10000)\n",
    "    print(key)\n",
    "    if key & 0xff == ord('q'):\n",
    "        break\n",
    "cv2.destroyAllWindows()\n",
    "cv2.waitKey(1)\n",
    "print('程序结束')"
   ]
  },
  {
   "cell_type": "code",
   "execution_count": null,
   "metadata": {},
   "outputs": [],
   "source": [
    "import cv2\n",
    "import numpy as np\n",
    "#创建一个（500，500）的numpy数组\n",
    "img=np.zeros((500,500),dtype='uint8')\n",
    "#新建一个窗口\n",
    "cv2.namedWindow('img')\n",
    "#定义回调函数，参数x为函数cv2.createTrackbar()传递的滑块位置对应的值\n",
    "def img_intensity_change(x):\n",
    "    img[:]=[x]\n",
    "#新建一个滑动条\n",
    "cv2.createTrackbar('intensity','img',0,255,img_intensity_change)\n",
    "while(1):\n",
    "    cv2.imshow('img',img)\n",
    "    if cv2.waitKey(1)==ord('q'):\n",
    "        break\n",
    "cv2.destroyAllWindows()\n"
   ]
  }
 ],
 "metadata": {
  "kernelspec": {
   "display_name": "Python 3.11.0 ('venvS': venv)",
   "language": "python",
   "name": "python3"
  },
  "language_info": {
   "codemirror_mode": {
    "name": "ipython",
    "version": 3
   },
   "file_extension": ".py",
   "mimetype": "text/x-python",
   "name": "python",
   "nbconvert_exporter": "python",
   "pygments_lexer": "ipython3",
   "version": "3.11.0"
  },
  "orig_nbformat": 4,
  "vscode": {
   "interpreter": {
    "hash": "a8c81a9500eff7f06a071bab37fed62bc0c19deeca7ff59c266493796a9545f7"
   }
  }
 },
 "nbformat": 4,
 "nbformat_minor": 2
}
