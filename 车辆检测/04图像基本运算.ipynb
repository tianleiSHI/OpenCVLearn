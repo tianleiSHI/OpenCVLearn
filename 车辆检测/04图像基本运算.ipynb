{
 "cells": [
  {
   "cell_type": "markdown",
   "metadata": {},
   "source": [
    "### OpenCV基础部分——04图像基本运算"
   ]
  },
  {
   "cell_type": "code",
   "execution_count": 8,
   "metadata": {},
   "outputs": [
    {
     "name": "stdout",
     "output_type": "stream",
     "text": [
      "(500, 477, 3)\n"
     ]
    }
   ],
   "source": [
    "'''图像相加减乘除'''\n",
    "import cv2\n",
    "import numpy as np\n",
    "\n",
    "cards = cv2.imread('images/cards.jpg')\n",
    "print(cards.shape)\n",
    "\n",
    "img = np.ones((500,477,3),np.uint8) * 5\n",
    "add_result = cv2.add(cards,img) # 相当于增亮，加大曝光\n",
    "sub_result = cv2.subtract(cards,img) # 图像相减，相当于变暗\n",
    "mul_result = cv2.multiply(cards,img)\n",
    "div_result = cv2.divide(cards,img)\n",
    "cv2.imshow('result1',mul_result)\n",
    "cv2.imshow('result2',div_result)\n",
    "key = cv2.waitKey(0)\n",
    "if key &0xff == ord('q'):\n",
    "    cv2.destroyAllWindows()\n",
    "    cv2.waitKey(1)"
   ]
  },
  {
   "cell_type": "code",
   "execution_count": 9,
   "metadata": {},
   "outputs": [],
   "source": [
    "'''图像融合'''\n",
    "# addWeighted(A,alpha,B,bate,gamma)\n",
    "import cv2\n",
    "import numpy as np\n",
    "\n",
    "cards = cv2.imread('images/cards.jpg')\n",
    "\n",
    "img = np.ones((500,477,3),np.uint8) * 5\n",
    "result = cv2.addWeighted(cards,0.7,img,0.3,0) \n",
    "cv2.imshow('result',result)\n",
    "key = cv2.waitKey(0)\n",
    "if key &0xff == ord('q'):\n",
    "    cv2.destroyAllWindows()\n",
    "    cv2.waitKey(1)"
   ]
  },
  {
   "cell_type": "code",
   "execution_count": 15,
   "metadata": {},
   "outputs": [],
   "source": [
    "'''图像位运算'''\n",
    "import cv2\n",
    "import numpy as np\n",
    "\n",
    "img = np.zeros((200,200),np.uint8)\n",
    "img[20:120,20:120] = 255\n",
    "new_img = cv2.bitwise_not(img) # 非运算\n",
    "\n",
    "img_2 = np.zeros((200,200),np.uint8)\n",
    "img_2[80:180,80:180] = 255\n",
    "\n",
    "result = cv2.bitwise_and(img,img_2)\n",
    "result_2 = cv2.bitwise_or(img,img_2)\n",
    "cv2.imshow('img',result)\n",
    "cv2.imshow('img_2',result_2)\n",
    "key = cv2.waitKey(0)\n",
    "if key &0xff == ord('q'):\n",
    "    cv2.destroyAllWindows()\n",
    "    cv2.waitKey(1)"
   ]
  },
  {
   "cell_type": "code",
   "execution_count": 21,
   "metadata": {},
   "outputs": [],
   "source": [
    "'''添加水印logo'''\n",
    "import cv2\n",
    "import numpy as np \n",
    "# 步骤拆解：\n",
    "# 1.引入图片；2.创建一个logo；\n",
    "# 3.计算logo在什么地方添加，在添加的地方变成黑色\n",
    "# 4.利用add，将logo与图像叠加到一起\n",
    "\n",
    "book = cv2.imread('images/book.jpg') # 引入图像\n",
    "logo = np.zeros((100,100,3),np.uint8) # 创建logo\n",
    "mask = np.zeros((100,100),np.uint8) # 创建mask\n",
    "\n",
    "logo[10:60,10:60] = [0,0,255] # 绘制logo\n",
    "logo[40:90,40:90] = [0,255,0]\n",
    "\n",
    "mask[10:60,10:60] = 255 # 绘制mask\n",
    "mask[40:90,40:90] = 255\n",
    "\n",
    "m_mask = cv2.bitwise_not(mask) #对mask按位求反\n",
    "\n",
    "roi = book[0:100,0:100] # 选择图像添加logo的位置\n",
    "\n",
    "tmp = cv2.bitwise_and(roi,roi,mask = m_mask)\n",
    "dst = cv2.add(tmp,logo)\n",
    "\n",
    "book[0:100,0:100] = dst\n",
    "\n",
    "cv2.imshow('logo',logo)\n",
    "cv2.imshow('book',book)\n",
    "key = cv2.waitKey(0)\n",
    "if key &0xff == ord('q'):\n",
    "    cv2.destroyAllWindows()\n",
    "    cv2.waitKey(1)"
   ]
  },
  {
   "cell_type": "code",
   "execution_count": null,
   "metadata": {},
   "outputs": [],
   "source": []
  }
 ],
 "metadata": {
  "kernelspec": {
   "display_name": "Python 3.11.0 ('venvS': venv)",
   "language": "python",
   "name": "python3"
  },
  "language_info": {
   "codemirror_mode": {
    "name": "ipython",
    "version": 3
   },
   "file_extension": ".py",
   "mimetype": "text/x-python",
   "name": "python",
   "nbconvert_exporter": "python",
   "pygments_lexer": "ipython3",
   "version": "3.11.0"
  },
  "orig_nbformat": 4,
  "vscode": {
   "interpreter": {
    "hash": "a8c81a9500eff7f06a071bab37fed62bc0c19deeca7ff59c266493796a9545f7"
   }
  }
 },
 "nbformat": 4,
 "nbformat_minor": 2
}
