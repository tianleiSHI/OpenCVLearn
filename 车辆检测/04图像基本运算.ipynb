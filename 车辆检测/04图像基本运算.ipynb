{
 "cells": [
  {
   "cell_type": "markdown",
   "metadata": {},
   "source": [
    "### OpenCV基础部分——04图像基本运算"
   ]
  },
  {
   "cell_type": "code",
   "execution_count": 8,
   "metadata": {},
   "outputs": [
    {
     "name": "stdout",
     "output_type": "stream",
     "text": [
      "(500, 477, 3)\n"
     ]
    }
   ],
   "source": [
    "'''图像相加减乘除'''\n",
    "import cv2\n",
    "import numpy as np\n",
    "\n",
    "cards = cv2.imread('images/cards.jpg')\n",
    "print(cards.shape)\n",
    "\n",
    "img = np.ones((500,477,3),np.uint8) * 5\n",
    "add_result = cv2.add(cards,img) # 相当于增亮，加大曝光\n",
    "sub_result = cv2.subtract(cards,img) # 图像相减，相当于变暗\n",
    "mul_result = cv2.multiply(cards,img)\n",
    "div_result = cv2.divide(cards,img)\n",
    "cv2.imshow('result1',mul_result)\n",
    "cv2.imshow('result2',div_result)\n",
    "key = cv2.waitKey(0)\n",
    "if key &0xff == ord('q'):\n",
    "    cv2.destroyAllWindows()\n",
    "    cv2.waitKey(1)"
   ]
  },
  {
   "cell_type": "code",
   "execution_count": 9,
   "metadata": {},
   "outputs": [],
   "source": [
    "'''图像融合'''\n",
    "# addWeighted(A,alpha,B,bate,gamma)\n",
    "import cv2\n",
    "import numpy as np\n",
    "\n",
    "cards = cv2.imread('images/cards.jpg')\n",
    "\n",
    "img = np.ones((500,477,3),np.uint8) * 5\n",
    "result = cv2.addWeighted(cards,0.7,img,0.3,0) \n",
    "cv2.imshow('result',result)\n",
    "key = cv2.waitKey(0)\n",
    "if key &0xff == ord('q'):\n",
    "    cv2.destroyAllWindows()\n",
    "    cv2.waitKey(1)"
   ]
  },
  {
   "cell_type": "code",
   "execution_count": 15,
   "metadata": {},
   "outputs": [],
   "source": [
    "'''图像位运算'''\n",
    "import cv2\n",
    "import numpy as np\n",
    "\n",
    "img = np.zeros((200,200),np.uint8)\n",
    "img[20:120,20:120] = 255\n",
    "new_img = cv2.bitwise_not(img) # 非运算\n",
    "\n",
    "img_2 = np.zeros((200,200),np.uint8)\n",
    "img_2[80:180,80:180] = 255\n",
    "\n",
    "result = cv2.bitwise_and(img,img_2)\n",
    "result_2 = cv2.bitwise_or(img,img_2)\n",
    "cv2.imshow('img',result)\n",
    "cv2.imshow('img_2',result_2)\n",
    "key = cv2.waitKey(0)\n",
    "if key &0xff == ord('q'):\n",
    "    cv2.destroyAllWindows()\n",
    "    cv2.waitKey(1)"
   ]
  },
  {
   "cell_type": "code",
   "execution_count": 1,
   "metadata": {},
   "outputs": [],
   "source": [
    "'''添加水印logo'''\n",
    "import cv2\n",
    "import numpy as np\n",
    "\n",
    "# 步骤拆解：\n",
    "# 1.引入图片；2.创建一个logo；\n",
    "# 3.计算logo在什么地方添加，在添加的地方变成黑色\n",
    "# 4.利用add，将logo与图像叠加到一起\n",
    "\n",
    "book = cv2.imread('images/book.jpg') # 引入图像\n",
    "logo = np.zeros((100,100,3),np.uint8) # 创建logo\n",
    "mask = np.zeros((100,100),np.uint8) # 创建mask\n",
    "\n",
    "logo[10:60,10:60] = [0,0,255] # 绘制logo\n",
    "logo[40:90,40:90] = [0,255,0]\n",
    "\n",
    "mask[10:60,10:60] = 255 # 绘制mask\n",
    "mask[40:90,40:90] = 255\n",
    "\n",
    "m_mask = cv2.bitwise_not(mask) #对mask按位求反\n",
    "\n",
    "roi = book[0:100,0:100] # 选择图像添加logo的位置\n",
    "\n",
    "tmp = cv2.bitwise_and(roi,roi,mask = m_mask)\n",
    "dst = cv2.add(tmp,logo)\n",
    "\n",
    "book[0:100,0:100] = dst\n",
    "\n",
    "cv2.imshow('logo',logo)\n",
    "cv2.imshow('book',book)\n",
    "key = cv2.waitKey(0)\n",
    "if key &0xff == ord('q'):\n",
    "    cv2.destroyAllWindows()\n",
    "    cv2.waitKey(1)"
   ]
  },
  {
   "cell_type": "code",
   "execution_count": 9,
   "metadata": {},
   "outputs": [
    {
     "name": "stdout",
     "output_type": "stream",
     "text": [
      "(500, 477, 3)\n"
     ]
    }
   ],
   "source": [
    "'''图像缩放'''\n",
    "# resize(src,dst,dsize,fx,fy,interpolation)\n",
    "# fx：x轴缩放因子，fy：y轴缩放因子，与dsize任选一组即可\n",
    "# interploation：插值算法\n",
    "#   INTER_NEAREST邻近插值，速度快效果差\n",
    "#   INTER_LINEAR双线性插值，原图中的四个点\n",
    "#   INTER_CUBIC三次插值，原图中的十六个点\n",
    "#   INTER_AREA邻近区域插值，效果最好，最慢\n",
    "import cv2  \n",
    "cards = cv2.imread('images/cards.jpg')\n",
    "print(cards.shape)\n",
    "# new_cards = cv2.resize(cards,(200,400))\n",
    "# new_cards = cv2.resize(cards,(47,50)) #注意dsize中(x,y)先x后y，shape是先y后x\n",
    "new_cards_1 = cv2.resize(cards,None,fx = 1.5,fy =1.5)\n",
    "new_cards_2 = cv2.resize(cards,None,fx=1.5,fy=1.5,interpolation=cv2.INTER_AREA)\n",
    "cv2.imshow('cards',cards)\n",
    "cv2.imshow('new_cards_1',new_cards_1)\n",
    "cv2.imshow('new_cards_2',new_cards_2)\n",
    "key = cv2.waitKey(0)\n",
    "if key &0xff == ord('q'):\n",
    "    cv2.destroyAllWindows()\n",
    "    cv2.waitKey(1)\n"
   ]
  },
  {
   "cell_type": "code",
   "execution_count": 12,
   "metadata": {},
   "outputs": [
    {
     "name": "stdout",
     "output_type": "stream",
     "text": [
      "(512, 512, 3)\n"
     ]
    }
   ],
   "source": [
    "'''图像翻转'''\n",
    "# flip(img,flipCode)\n",
    "# flipCode ==0,上下翻转；flipCode>0,左右翻转；flipCode<0,上下加左右翻转\n",
    "import cv2\n",
    "cards = cv2.imread('images/lena.png')\n",
    "print(cards.shape)\n",
    "flip_cards_1 = cv2.flip(cards,0)\n",
    "flip_cards_2 = cv2.flip(cards,1)\n",
    "flip_cards_3 = cv2.flip(cards,-1)\n",
    "cv2.imshow('cards',cards)\n",
    "cv2.imshow('flip_cards_1',flip_cards_1)\n",
    "cv2.imshow('flip_cards_2',flip_cards_2)\n",
    "cv2.imshow('flip_cards_3',flip_cards_3)\n",
    "key = cv2.waitKey(0)\n",
    "if key &0xff == ord('q'):\n",
    "    cv2.destroyAllWindows()\n",
    "    cv2.waitKey(1)"
   ]
  },
  {
   "cell_type": "code",
   "execution_count": 15,
   "metadata": {},
   "outputs": [
    {
     "name": "stdout",
     "output_type": "stream",
     "text": [
      "(512, 512, 3)\n"
     ]
    }
   ],
   "source": [
    "'''图像旋转'''\n",
    "# rotate(img,rotateCode)\n",
    "# rotateCode 取值：ROTATE_90_CLOCKWISE,ROTATE_180,ROTATE_90_COUNTERCLOCKWISE\n",
    "import cv2\n",
    "cards = cv2.imread('images/lena.png')\n",
    "print(cards.shape)\n",
    "rotate_1 = cv2.rotate(cards,cv2.ROTATE_90_CLOCKWISE)\n",
    "rotate_2 = cv2.flip(cards,cv2.ROTATE_180)\n",
    "rotate_3 = cv2.flip(cards,cv2.ROTATE_90_COUNTERCLOCKWISE) #为什么不是逆时针旋转90度\n",
    "cv2.imshow('cards',cards)\n",
    "cv2.imshow('rotate_1',rotate_1)\n",
    "cv2.imshow('rotate_2',rotate_2)\n",
    "cv2.imshow('rotate_3',rotate_3)\n",
    "key = cv2.waitKey(0)\n",
    "if key &0xff == ord('q'):\n",
    "    cv2.destroyAllWindows()\n",
    "    cv2.waitKey(1)"
   ]
  },
  {
   "cell_type": "code",
   "execution_count": 16,
   "metadata": {},
   "outputs": [],
   "source": [
    "'''仿射变换：图像旋转、缩放、平移的总称'''\n",
    "# warpAffine(src,M,dsize,flags,mode,value)\n",
    "# M:变换矩阵\n",
    "# dsize:输出尺寸大小\n",
    "# flags:与resize中插值算法一致（又增加了两个插值算法）\n",
    "# mode:边界外推法标志\n",
    "# value:填充边界的值\n",
    "import cv2\n",
    "import numpy as np\n",
    "src_img = cv2.imread('images/lena.png')\n",
    "h,w,ch = src_img.shape # 先是高后是宽（y，x）\n",
    "M = np.float32([[1,0,100],[0,1,0]]) # x轴平移100,y轴不变\n",
    "dst_img = cv2.warpAffine(src_img,M,(w,h))\n",
    "cv2.imshow('src_img',src_img)\n",
    "cv2.imshow('dst_img',dst_img)\n",
    "key = cv2.waitKey(0)\n",
    "if key &0xff == ord('q'):\n",
    "    cv2.destroyAllWindows()\n",
    "    cv2.waitKey(1)"
   ]
  },
  {
   "cell_type": "code",
   "execution_count": 19,
   "metadata": {},
   "outputs": [
    {
     "name": "stdout",
     "output_type": "stream",
     "text": [
      "(512, 512, 3)\n",
      "(256, 256, 3)\n"
     ]
    }
   ],
   "source": [
    "'''仿射变换中的变换矩阵获取方法一'''\n",
    "# getRotationMatrix2D(center,angle,scale)\n",
    "# center中心点\n",
    "# angle角度（逆时针旋转）\n",
    "# scale缩放比例\n",
    "import cv2\n",
    "\n",
    "src_img = cv2.imread('images/lena.png')\n",
    "print(src_img.shape)\n",
    "h,w,ch = src_img.shape # 先是高后是宽（y，x）\n",
    "# M = cv2.getRotationMatrix2D((100,100),15,1.0)\n",
    "M = cv2.getRotationMatrix2D((w/2,h/2),15,0.3)\n",
    "# dst_img = cv2.warpAffine(src_img,M,(w,h)) # 图像的尺寸没有变\n",
    "# print(dst_img.shape)\n",
    "\n",
    "dst_img = cv2.warpAffine(src_img,M,(int(w/2),int(h/2))) # 图像尺寸缩小\n",
    "print(dst_img.shape)\n",
    "cv2.imshow('src_img',src_img)\n",
    "cv2.imshow('dst_img',dst_img)\n",
    "key = cv2.waitKey(0)\n",
    "if key &0xff == ord('q'):\n",
    "    cv2.destroyAllWindows()\n",
    "    cv2.waitKey(1)"
   ]
  },
  {
   "cell_type": "code",
   "execution_count": 1,
   "metadata": {},
   "outputs": [
    {
     "name": "stdout",
     "output_type": "stream",
     "text": [
      "(512, 512, 3)\n",
      "(512, 512, 3)\n"
     ]
    }
   ],
   "source": [
    "'''仿射变换中的变换矩阵获取方法二'''\n",
    "# getAffineTransform 三个点确定变换矩阵\n",
    "import cv2\n",
    "import numpy as np\n",
    "src_img = cv2.imread('images/lena.png')\n",
    "print(src_img.shape)\n",
    "h,w,ch = src_img.shape # 先是高后是宽（y，x）\n",
    "src = np.float32([[100,80],[200,100],[400,200]])\n",
    "dst = np.float32([[70,100],[150,200],[400,100]])\n",
    "M = cv2.getAffineTransform(src,dst)\n",
    "dst_img = cv2.warpAffine(src_img,M,(w,h)) # 图像尺寸缩小\n",
    "print(dst_img.shape)\n",
    "cv2.imshow('src_img',src_img)\n",
    "cv2.imshow('dst_img',dst_img)\n",
    "key = cv2.waitKey(0)\n",
    "if key &0xff == ord('q'):\n",
    "    cv2.destroyAllWindows()\n",
    "    cv2.waitKey(1)"
   ]
  },
  {
   "cell_type": "code",
   "execution_count": 30,
   "metadata": {},
   "outputs": [
    {
     "name": "stdout",
     "output_type": "stream",
     "text": [
      "(1600, 1200, 3)\n"
     ]
    }
   ],
   "source": [
    "'''透视变换'''\n",
    "# warpPerspective(img,M,dsize,...)\n",
    "# dsize输出图像大小 M变换矩阵\n",
    "# 获得变换矩阵getPersectiveTransform(src,dst)需要四个点（图形的四个角）\n",
    "import cv2\n",
    "src_img = cv2.imread('images/1.jpg')\n",
    "print(img.shape)\n",
    "\n",
    "src = np.float32([[500,500],[900,600],[100,1200],[940,1350]])\n",
    "dst = np.float32([[0,0],[1200,0],[0,1600],[1200,1600]])\n",
    "M = cv2.getPerspectiveTransform(src,dst)\n",
    "dst_img = cv2.warpPerspective(img,M,(1200,1600))\n",
    "cv2.imshow('src_img',src_img)\n",
    "cv2.imshow('dst_img',dst_img)\n",
    "key = cv2.waitKey(0)\n",
    "if key &0xff == ord('q'):\n",
    "    cv2.destroyAllWindows()\n",
    "    cv2.waitKey(1)\n"
   ]
  }
 ],
 "metadata": {
  "kernelspec": {
   "display_name": "Python 3.11.0 ('venvS': venv)",
   "language": "python",
   "name": "python3"
  },
  "language_info": {
   "codemirror_mode": {
    "name": "ipython",
    "version": 3
   },
   "file_extension": ".py",
   "mimetype": "text/x-python",
   "name": "python",
   "nbconvert_exporter": "python",
   "pygments_lexer": "ipython3",
   "version": "3.11.0"
  },
  "orig_nbformat": 4,
  "vscode": {
   "interpreter": {
    "hash": "0be229f28c8d1a313b07da067d916a5640de289edfdcc8d9d17e4a2a7a28bb4a"
   }
  }
 },
 "nbformat": 4,
 "nbformat_minor": 2
}
