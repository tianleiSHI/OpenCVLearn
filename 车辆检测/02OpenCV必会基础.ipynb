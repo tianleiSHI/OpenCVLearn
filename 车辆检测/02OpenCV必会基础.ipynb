{
 "cells": [
  {
   "cell_type": "markdown",
   "metadata": {},
   "source": [
    "### OpenCV基础部分——02OpenCV必会基础"
   ]
  },
  {
   "cell_type": "markdown",
   "metadata": {},
   "source": [
    "### 1、色彩空间变换\n",
    "RGB是人眼的色彩空间，opencv中默认为BGR\n",
    "\n",
    "HSV颜色空间（opencv中比较好用）\n",
    "* Hue：色相，即色彩，如红色、蓝色\n",
    "* Saturation：饱和度，颜色的纯度\n",
    "* Value：明度（黑色成分占多少）\n",
    "HSV颜色很容易区分\n",
    "\n",
    "HSL色相、饱和度、亮度"
   ]
  },
  {
   "cell_type": "markdown",
   "metadata": {},
   "source": [
    "### 2、Numpy库的简介\n",
    "* opencv中用到的矩阵都要转换成numpy数组\n",
    "* numpy是一个经高度优化的python数值库\n",
    "基本操作\n",
    "* 创建矩阵\n",
    "    * 创建数组 array()\n",
    "    * 创建全0数组 zeros()/ones\n",
    "    * 创建全值数组 full()\n",
    "    * 创建单元数组 identity/eye()\n",
    "* 检索与赋值[y,x]\n",
    "* 获取子数组[:,:]"
   ]
  },
  {
   "cell_type": "code",
   "execution_count": null,
   "metadata": {},
   "outputs": [],
   "source": [
    "'''创建矩阵'''\n",
    "import numpy as np\n",
    "array_a = np.array([2,3,4])\n",
    "array_b = np.array([[1.0,2.0],[3.0,4.0]])\n",
    "\n",
    "zero_a = np.zeros((480,640,3),np.uint8) # 行，列，通道数\n",
    "# np.uint8矩阵中的数据类型\n",
    "zero_b = np.zeros((2,1,3),np.uint8) \n",
    "'''\n",
    "   这里注意该数组实际上为3通道的2*1行列的尺寸,为什么输出形状不符呢\n",
    "   是因为print本身的解释与opencv的解释不一样,所以输出的是2个1*3行列的矩阵\n",
    "'''\n",
    "#print(zero_b)\n",
    "\n",
    "one_a = np.ones((2,3,1),np.uint8)\n",
    "#print(one_a)\n",
    "\n",
    "full_a = np.full((2,2,3),255,np.uint8)\n",
    "# print(full_a)\n",
    "\n",
    "iden_a = np.identity(8) #单位方阵\n",
    "#print(iden_a)\n",
    "\n",
    "eye_a = np.eye(5,7,k=1) # 可以是任意形状的斜对角为1的矩阵，k表示从哪个起始位开始\n",
    "print(eye_a)"
   ]
  },
  {
   "cell_type": "code",
   "execution_count": 7,
   "metadata": {},
   "outputs": [
    {
     "name": "stdout",
     "output_type": "stream",
     "text": [
      "[0 0 0]\n",
      "资源释放，程序结束\n"
     ]
    }
   ],
   "source": [
    "'''矩阵的检索与赋值'''\n",
    "import numpy as np\n",
    "import cv2\n",
    "zero_a = np.zeros((460,280,3),np.uint8)\n",
    "\n",
    "# 赋值\n",
    "for count in range(200):\n",
    "    zero_a[count,100] =[255,0,0] # 100列，前200行\n",
    "# 检索\n",
    "print(zero_a[1,1])\n",
    "\n",
    "cv2.imshow('img',zero_a)\n",
    "key = cv2.waitKey(0)\n",
    "if key & 0xff == ord('q'):\n",
    "    cv2.destroyAllWindows()\n",
    "    cv2.waitKey(1)\n",
    "    print('资源释放，程序结束')"
   ]
  },
  {
   "cell_type": "code",
   "execution_count": 11,
   "metadata": {},
   "outputs": [],
   "source": [
    "'''获取子矩阵(ROI)'''\n",
    "import numpy as np\n",
    "import cv2\n",
    "zero_a = np.zeros((400,600,3),np.uint8)\n",
    "roi = zero_a[100:400,100:600]\n",
    "roi[0:100,0:100] = [255,0,0]\n",
    "roi[200:300,400:500] = [0,255,0]\n",
    "cv2.imshow('img',roi)\n",
    "key = cv2.waitKey(0)\n",
    "if key & 0xff == ord('q'):\n",
    "    cv2.destroyAllWindows()\n",
    "    cv2.waitKey(1)"
   ]
  },
  {
   "cell_type": "markdown",
   "metadata": {},
   "source": [
    "### 3、OpenCV结构体Mat\n",
    "* mat组成：header data\n",
    "* mat属性：\n",
    "    * dims维度，rows行数，cols列数，depth像素的位深\n",
    "    * channels 通道数，size矩阵大小，type类型，data存放数据\n",
    "* mat的深拷贝与浅拷贝"
   ]
  },
  {
   "cell_type": "code",
   "execution_count": 15,
   "metadata": {},
   "outputs": [],
   "source": [
    "import numpy as np\n",
    "import cv2\n",
    "img = cv2.imread('images/book.jpg')\n",
    "# 浅拷贝，数据共享，head不一样而已\n",
    "img2 = img\n",
    "# 深拷贝，head和data都不一样了\n",
    "img3 = img.copy()\n",
    "\n",
    "img[10:100,10:100] = [0,0,255]\n",
    "cv2.imshow('img',img)\n",
    "cv2.imshow('img2',img2)\n",
    "cv2.imshow('img3', img3)\n",
    "key = cv2.waitKey(0)\n",
    "if key & 0xff == ord('q'):\n",
    "    cv2.destroyAllWindows()\n",
    "    cv2.waitKey(1)"
   ]
  },
  {
   "cell_type": "code",
   "execution_count": 16,
   "metadata": {},
   "outputs": [
    {
     "name": "stdout",
     "output_type": "stream",
     "text": [
      "(1600, 1200, 3)\n",
      "5760000\n",
      "uint8\n"
     ]
    }
   ],
   "source": [
    "import numpy as np\n",
    "import cv2\n",
    "img = cv2.imread('images/1.jpg')\n",
    "\n",
    "# shape属性中包含了三个信息（高度、长度和通道数）\n",
    "print(img.shape)\n",
    "\n",
    "# size属性中为图像占用多大空间（高度*长度*通道数）\n",
    "print(img.size)\n",
    "\n",
    "# dtype属性为图像中每个元素的位深\n",
    "print(img.dtype)"
   ]
  },
  {
   "cell_type": "code",
   "execution_count": 18,
   "metadata": {},
   "outputs": [],
   "source": [
    "'''通道的分离和合并'''\n",
    "import cv2\n",
    "import numpy as np\n",
    "img = np.zeros((480,640,3),np.uint8)\n",
    "\n",
    "b,g,r = cv2.split(img)\n",
    "b[10:100,10:100] = 255\n",
    "g[10:100,10:100] = 255\n",
    "# r[10:100,10:100] = 255\n",
    "\n",
    "img2 = cv2.merge((b,g,r))\n",
    "cv2.imshow('img2',img2)\n",
    "key = cv2.waitKey(0)\n",
    "if key & 0xff == ord('q'):\n",
    "    cv2.destroyAllWindows()\n",
    "    cv2.waitKey(1)"
   ]
  }
 ],
 "metadata": {
  "kernelspec": {
   "display_name": "Python 3.11.0 ('venvS': venv)",
   "language": "python",
   "name": "python3"
  },
  "language_info": {
   "codemirror_mode": {
    "name": "ipython",
    "version": 3
   },
   "file_extension": ".py",
   "mimetype": "text/x-python",
   "name": "python",
   "nbconvert_exporter": "python",
   "pygments_lexer": "ipython3",
   "version": "3.11.0"
  },
  "orig_nbformat": 4,
  "vscode": {
   "interpreter": {
    "hash": "a8c81a9500eff7f06a071bab37fed62bc0c19deeca7ff59c266493796a9545f7"
   }
  }
 },
 "nbformat": 4,
 "nbformat_minor": 2
}
