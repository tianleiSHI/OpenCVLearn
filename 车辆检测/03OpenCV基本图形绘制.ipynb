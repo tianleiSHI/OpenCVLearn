{
 "cells": [
  {
   "cell_type": "markdown",
   "metadata": {},
   "source": [
    "### OpenCV基础部分——03OpenCV基本图形绘制\n",
    "* 绘制直线：line(img，开始点，结束点，颜色，线宽，线型)\n",
    "* 绘制椭圆：ellipse(img，中心点，长宽的一半，角度，从哪个角度开始，到哪个角度结束，..)\n",
    "* 绘制多边形：polylines(img，点集，是否闭环，颜色，..)\n",
    "* 绘制文本：putText(img，字符串，起始点，字体，字号，..)"
   ]
  },
  {
   "cell_type": "code",
   "execution_count": 22,
   "metadata": {},
   "outputs": [],
   "source": [
    "import cv2\n",
    "import numpy as np\n",
    "# 原图坐标点为（y,x）\n",
    "img = np.zeros((480,640,3),np.uint8)\n",
    "# 画线坐标点为（x,y）\n",
    "cv2.line(img,(10,20),(300,400),(0,0,255),5,4) \n",
    "        #最后一位是线型，一共可以取-1(填充)，4(锯齿)，8(平滑)，16(更平滑)\n",
    "# 绘制椭圆\n",
    "cv2.ellipse(img,(200,200),(50,100),90,0,360,[0,0,255],-1)\n",
    "        #(50,100)长度是100，宽度是200，顺时针转动0到180度\n",
    "# 绘制圆形\n",
    "cv2.circle(img,(400,100),100,(0,0,255),-1)\n",
    "\n",
    "# 绘制矩形\n",
    "cv2.rectangle(img,(10,10),(50,50),(255,0,0),-1)\n",
    "\n",
    "# 绘制多边形\n",
    "pts = np.array([(300,10),(150,100),(450,100)],np.int32) #注意数据类型必须是有符号的32位\n",
    "cv2.polylines(img,[pts],True,(0,255,0))\n",
    "cv2.fillPoly(img,[pts],(0,255,255)) # 填充多边形\n",
    "\n",
    "# 绘制文本\n",
    "cv2.putText(img,'hello world',(10,400),cv2.FONT_HERSHEY_SIMPLEX,2,[255,0,255])\n",
    "cv2.imshow('img',img)\n",
    "key = cv2.waitKey(0)\n",
    "if key &0xff == ord('q'):\n",
    "    cv2.destroyAllWindows()\n",
    "    cv2.waitKey(1)"
   ]
  },
  {
   "cell_type": "code",
   "execution_count": 24,
   "metadata": {},
   "outputs": [
    {
     "data": {
      "text/plain": [
       "-1"
      ]
     },
     "execution_count": 24,
     "metadata": {},
     "output_type": "execute_result"
    }
   ],
   "source": [
    "'''大作业：实现鼠标绘制基本图形'''\n",
    "import cv2\n",
    "import numpy as np\n",
    "# 基本功能分析：可以通过鼠标进行基本图形的绘制\n",
    "# （1）可以画线：当用户按下l键，即选择了画线。此时，滑动鼠标即可画线。\n",
    "# （2）可以画举行：当用户按下r键，即选择了画矩形。此时，滑动鼠标即可画矩形。\n",
    "# （3）可以画圆：当用户按下c键，即选择了画圆。此时，滑动鼠标即可画圆形。\n",
    "\n",
    "# 显示窗口和背景\n",
    "img = np.zeros((480,640,3),np.uint8)\n",
    "curshape = 0 # 0 画线，1 画矩形，2 画圆\n",
    "starpos = (0,0)\n",
    "\n",
    "# 鼠标回调函数\n",
    "def mouse_callback(event,x,y,flags,userdata):\n",
    "    #print(event,x,y,flags,userdata)\n",
    "    global curshape,starpos\n",
    "    if (event & cv2.EVENT_LBUTTONDOWN == cv2.EVENT_LBUTTONDOWN):\n",
    "        starpos = (x,y)\n",
    "    elif (event & cv2.EVENT_LBUTTONUP == cv2.EVENT_LBUTTONUP):\n",
    "        if curshape == 0:\n",
    "            cv2.line(img,starpos,(x,y),(0,0,255)) # (x,y)为当前的点\n",
    "        elif curshape == 1:\n",
    "            cv2.rectangle(img,starpos,(x,y),(255,0,0))\n",
    "        elif curshape == 2:\n",
    "            a = (x - starpos[0])\n",
    "            b = (y - starpos[1])\n",
    "            r = int((a**2 + b**2)**0.5)\n",
    "            cv2.circle(img,starpos,r,(255,0,0))\n",
    "        else:\n",
    "            print('没有这个形状的选项')\n",
    "\n",
    "# 创建窗口\n",
    "cv2.namedWindow('drowshape',cv2.WINDOW_NORMAL)\n",
    "\n",
    "# 设置鼠标回调\n",
    "cv2.setMouseCallback('mouse',mouse_callback,'123')\n",
    "\n",
    "while True:\n",
    "    cv2.imshow('mouse',img)\n",
    "    key = cv2.waitKey(1) & 0xff\n",
    "    if key == ord('q'):\n",
    "        break\n",
    "    elif key == ord('l'):\n",
    "        curshape = 0\n",
    "    elif key == ord('r'):\n",
    "        curshape = 1\n",
    "    elif key == ord('c'):\n",
    "        curshape = 2\n",
    "cv2.destroyAllWindows()\n",
    "cv2.waitKey(1)"
   ]
  }
 ],
 "metadata": {
  "kernelspec": {
   "display_name": "Python 3.11.0 ('venvS': venv)",
   "language": "python",
   "name": "python3"
  },
  "language_info": {
   "codemirror_mode": {
    "name": "ipython",
    "version": 3
   },
   "file_extension": ".py",
   "mimetype": "text/x-python",
   "name": "python",
   "nbconvert_exporter": "python",
   "pygments_lexer": "ipython3",
   "version": "3.11.0"
  },
  "orig_nbformat": 4,
  "vscode": {
   "interpreter": {
    "hash": "a8c81a9500eff7f06a071bab37fed62bc0c19deeca7ff59c266493796a9545f7"
   }
  }
 },
 "nbformat": 4,
 "nbformat_minor": 2
}
